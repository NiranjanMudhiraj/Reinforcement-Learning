{
 "cells": [
  {
   "cell_type": "code",
   "execution_count": 1,
   "metadata": {},
   "outputs": [
    {
     "name": "stdout",
     "output_type": "stream",
     "text": [
      "Episode: 0, Return: 1.0\n",
      "Episode: 10, Return: 1.0\n",
      "Episode: 20, Return: 1.0\n",
      "Episode: 30, Return: 1.0\n",
      "Episode: 40, Return: 1.0\n",
      "Episode: 50, Return: 1.0\n",
      "Episode: 60, Return: 1.0\n",
      "Episode: 70, Return: 1.0\n",
      "Episode: 80, Return: 1.0\n",
      "Episode: 90, Return: 1.0\n"
     ]
    }
   ],
   "source": [
    "import gym\n",
    "env = gym.make('CartPole-v0')\n",
    "\n",
    "num_episodes = 100\n",
    "num_timesteps = 50\n",
    "\n",
    "for i in range(num_episodes):\n",
    "    Return = 0\n",
    "    state = env.reset()\n",
    "\n",
    "    for t in range(num_timesteps):\n",
    "        env.render()\n",
    "        random_action = env.action_space.sample()\n",
    "        random_action = env.action_space.sample()\n",
    "    next_state, reward, done, info = env.step(random_action)\n",
    "    Return = Return + reward\n",
    "    if done:\n",
    "        break\n",
    "    if i%10==0:\n",
    "        print('Episode: {}, Return: {}'.format(i, Return))\n",
    "    env.close()"
   ]
  },
  {
   "cell_type": "code",
   "execution_count": null,
   "metadata": {},
   "outputs": [],
   "source": []
  }
 ],
 "metadata": {
  "kernelspec": {
   "display_name": "Python 3",
   "language": "python",
   "name": "python3"
  },
  "language_info": {
   "codemirror_mode": {
    "name": "ipython",
    "version": 3
   },
   "file_extension": ".py",
   "mimetype": "text/x-python",
   "name": "python",
   "nbconvert_exporter": "python",
   "pygments_lexer": "ipython3",
   "version": "3.6.10"
  }
 },
 "nbformat": 4,
 "nbformat_minor": 4
}
